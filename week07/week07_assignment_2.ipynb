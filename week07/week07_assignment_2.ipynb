{
  "cells": [
    {
      "cell_type": "markdown",
      "metadata": {
        "id": "profeLSpImUW"
      },
      "source": [
        "# Week 7 Assignment\n",
        "\n",
        "We've been working with different types of data structures in Python (dictionary, list, etc), how those are represented in JSON documents, and how to write code to access specific data elements. In this week's assignment, you will need to create your own JSON document to store information about yourself and the grades you've received from week 1 to week 4 and the week 6 quiz.  That is, everything you should have received a grade for.  Then you'll need to show me you know how to navigate the JSON in that file.\n",
        "\n",
        "Different from what we've done in the past, you do not have to write any functions or include any docstrings.  Just create some JSON and write some code.\n",
        "\n",
        "---"
      ]
    },
    {
      "cell_type": "markdown",
      "metadata": {
        "id": "PVnPCZ0yImUY"
      },
      "source": [
        "## 7.1 Create a JSON string\n",
        "\n",
        "Create a JSON string that contains your name, email, year you were born, all of the grades you've received back so far, and a comment about what you thought was most challenging on each of those assignments.  This can be any structure you choose, but make sure it uses a dictionary and a list, and has at least two levels of hierarchy.  That is, it can't just be one big long list."
      ]
    },
    {
      "cell_type": "markdown",
      "metadata": {
        "id": "lVd0IFKJImUY"
      },
      "source": [
        "First, explain how your data structure is going to look..."
      ]
    },
    {
      "cell_type": "markdown",
      "metadata": {
        "id": "QaWzJi22ImUY"
      },
      "source": [
        "* My JSON data structure represents a biography with a well-organized hierarchy. At the top level, it uses a dictionary to store key-value pairs for the person's name, email, birth year, skills, and assignment grades. The \"skills\" key contains a nested dictionary with \"technical\" and \"soft\" skills stored in lists, providing a clear separation of different types of skills. The \"Assignment grade\" key contains a nested list of dictionaries, one for each week's assignment grade, with keys for \"week,\" \"grade,\" and \"comment.\" This hierarchy allows for easy access to different sections of the biography while keeping related data together, making it easy to maintain and expand the data structure as needed.\n"
      ]
    },
    {
      "cell_type": "markdown",
      "metadata": {
        "id": "kffE2MELImUY"
      },
      "source": [
        "Then put the actual JSON you've created inside the multiline string below..."
      ]
    },
    {
      "cell_type": "code",
      "execution_count": 1,
      "metadata": {
        "id": "1Fu7AwldImUY"
      },
      "outputs": [],
      "source": [
        "hds5210 = \"\"\"\n",
        "{\n",
        "  \"name\": \"Pavithra Kudumula\",\n",
        "  \"email\": \"pavithra.kudumula@slu.edu\",\n",
        "  \"yearborn\": 1997,\n",
        "  \"skills\": {\n",
        "    \"technical\": [\"R-language\", \"Python\", \"SQL\"],\n",
        "    \"soft\": [\"communication\", \"leadership\"]\n",
        "  },\n",
        "  \"Assignment grades\": [\n",
        "    {\n",
        "      \"week\": 1,\n",
        "      \"grade\": \"10/10\",\n",
        "      \"comment\": \"it was a simple assignment\"\n",
        "    },\n",
        "    {\n",
        "      \"week\": 2,\n",
        "      \"grade\": 9,\n",
        "      \"comment\": \"This assignment was a bit challenging and interesting to write the codes between begin solution and end solution on our own.\"\n",
        "    },\n",
        "    {\n",
        "      \"week\": 3,\n",
        "      \"grade\": 8,\n",
        "      \"comment\": \"Assignment was very hard due to complex codes.\"\n",
        "    },\n",
        "    {\n",
        "      \"week\": 4,\n",
        "      \"grade\": 10,\n",
        "      \"comment\": \"This assignment was interesting as I learned to convert lists into a dictionary and join stuff.\"\n",
        "    },\n",
        "    {\n",
        "      \"week\": 6,\n",
        "      \"grade\": 15,\n",
        "      \"comment\": \"Quiz was difficult to write the whole code on my own so I took help of AI.\"\n",
        "    }\n",
        "  ]\n",
        "}\n",
        "\n",
        "\"\"\""
      ]
    },
    {
      "cell_type": "markdown",
      "metadata": {
        "id": "31G0wtK0ImUZ"
      },
      "source": [
        "## 7.2 Do something with your JSON\n",
        "\n",
        "Now use Python code to do something with the Json above.  Turn it into English text, but make sure that you use at least one loop to access some dict or list content of your JSON.  Below, I've provided some basic code to read in the string above as JSON and return a Python object.  Your job is to work with that data structure and print out the important information like your name, email, and how you did on each assignment."
      ]
    },
    {
      "cell_type": "code",
      "execution_count": 2,
      "metadata": {
        "colab": {
          "base_uri": "https://localhost:8080/"
        },
        "id": "prBCVjLbImUZ",
        "outputId": "ca1d8b32-3f9b-4dac-d5b7-f9f41134bdd3"
      },
      "outputs": [
        {
          "output_type": "stream",
          "name": "stdout",
          "text": [
            "My name is Pavithra Kudumula and I was born in 1997.\n",
            "You can reach me at pavithra.kudumula@slu.edu.\n",
            "\n",
            "My technical skills are:\n",
            "R-language\n",
            "Python\n",
            "SQL\n",
            "\n",
            "My soft skills are:\n",
            "communication\n",
            "leadership\n",
            "\n",
            "Here are my grades on the weekly assignments:\n",
            "Week 1 - I scored 10/10 and the comment was: it was a simple assignment\n",
            "Week 2 - I scored 9 and the comment was: This assignment was a bit challenging and interesting to write the codes between begin solution and end solution on our own.\n",
            "Week 3 - I scored 8 and the comment was: Assignment was very hard due to complex codes.\n",
            "Week 4 - I scored 10 and the comment was: This assignment was interesting as I learned to convert lists into a dictionary and join stuff.\n",
            "Week 6 - I scored 15 and the comment was: Quiz was difficult to write the whole code on my own so I took help of AI.\n"
          ]
        }
      ],
      "source": [
        "import json\n",
        "\n",
        "data = json.loads(hds5210)\n",
        "\n",
        "print(f\"My name is {data['name']} and I was born in {data['yearborn']}.\")\n",
        "print(f\"You can reach me at {data['email']}.\")\n",
        "\n",
        "print(\"\\nMy technical skills are:\")\n",
        "for skill in data['skills']['technical']:\n",
        "  print(skill)\n",
        "\n",
        "print(\"\\nMy soft skills are:\")\n",
        "for skill in data['skills']['soft']:\n",
        "  print(skill)\n",
        "\n",
        "print(\"\\nHere are my grades on the weekly assignments:\")\n",
        "for week in data['Assignment grades']:\n",
        "  print(f\"Week {week['week']} - I scored {week['grade']} and the comment was: {week['comment']}\")\n",
        "\n"
      ]
    },
    {
      "cell_type": "markdown",
      "metadata": {
        "id": "3TKgv0m2ImUZ"
      },
      "source": [
        "## 7.3 Reflect\n",
        "\n",
        "Write a paragraph on any reflections you have. Was this hard? Easy?  What parts were most challenging or easiest? What did you like or dislike about the assignment?  Share whatever important thoughts you have abou this assignment."
      ]
    },
    {
      "cell_type": "markdown",
      "metadata": {
        "id": "iIJMoIowImUZ"
      },
      "source": [
        "Creating a JSON data structure to represent a biography and then turning it into English text using Python was not a particularly challenging job but did take some careful planning and organization on my part. Instructions on the expected JSON format and data to be extracted were provided in detail. The easiest part was using the available data to build the JSON data structure. Accessing and printing the assignment details in English using loops was the more difficult part. Parsing nested dictionaries and lists was a significant part of this challenge, thus it was well worth taking on. In general, I appreciated the assignment's emphasis on putting JSON and Python's ability to manipulate structured data to good use. If anyone wants to improve their data processing and Python abilities, this is a fantastic exercise to do."
      ]
    },
    {
      "cell_type": "markdown",
      "metadata": {
        "id": "Q5CFwIHxImUa"
      },
      "source": [
        "---\n",
        "\n",
        "# Example\n",
        "\n",
        "Below is an example of something similar, but this uses information my and my friend's kids instead of grades."
      ]
    },
    {
      "cell_type": "code",
      "execution_count": 3,
      "metadata": {
        "colab": {
          "base_uri": "https://localhost:8080/"
        },
        "id": "4WhA8cj6ImUa",
        "outputId": "0e19e13f-144c-47af-c9b5-214037ef3dd3"
      },
      "outputs": [
        {
          "output_type": "stream",
          "name": "stdout",
          "text": [
            "Hi, my name is Paul. I've got 3 kids. Their names are Ellie, Ada, Teddy.\n",
            "My friend, Anny has 1 kids. That's fewer than me. Their names are 1\n"
          ]
        }
      ],
      "source": [
        "hds5210 = \"\"\"\n",
        "{\n",
        "    \"me\": {\n",
        "        \"name\": \"Paul\",\n",
        "        \"kids\": [\"Ellie\", \"Ada\", \"Teddy\"]\n",
        "    },\n",
        "    \"friend\": {\n",
        "        \"name\": \"Anny\",\n",
        "        \"kids\": [\"Abby\"]\n",
        "    }\n",
        "}\n",
        "\"\"\"\n",
        "\n",
        "import json\n",
        "\n",
        "info = json.loads(hds5210)\n",
        "\n",
        "me = info[\"me\"][\"name\"]\n",
        "my_kids_count = len(info[\"me\"][\"kids\"])\n",
        "kids_list = \", \".join(info[\"me\"][\"kids\"])\n",
        "friend = info[\"friend\"][\"name\"]\n",
        "friends_kid_count = len(info[\"friend\"][\"kids\"])\n",
        "friend_kids = \", \".join(info[\"friend\"][\"kids\"])\n",
        "compare = \"more\" if friends_kid_count > my_kids_count else \"fewer\"\n",
        "\n",
        "print(f\"Hi, my name is {me}. I've got {my_kids_count} kids. Their names are {kids_list}.\")\n",
        "print(f\"My friend, {friend} has {friends_kid_count} kids. That's {compare} than me. Their names are {friends_kid_count}\")"
      ]
    }
  ],
  "metadata": {
    "kernelspec": {
      "display_name": "Python 3",
      "language": "python",
      "name": "python3"
    },
    "language_info": {
      "codemirror_mode": {
        "name": "ipython",
        "version": 3
      },
      "file_extension": ".py",
      "mimetype": "text/x-python",
      "name": "python",
      "nbconvert_exporter": "python",
      "pygments_lexer": "ipython3",
      "version": "3.9.16"
    },
    "colab": {
      "provenance": []
    }
  },
  "nbformat": 4,
  "nbformat_minor": 0
}