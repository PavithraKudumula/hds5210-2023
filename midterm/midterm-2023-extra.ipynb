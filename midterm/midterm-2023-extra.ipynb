{
  "cells": [
    {
      "cell_type": "markdown",
      "metadata": {
        "id": "SJUORA8ZEGy2"
      },
      "source": [
        "# Extra Credit\n",
        "\n",
        "For upto an additional 15 extra credit points on the midterm exam, you can write another function that applies additional criteria on top of what the midterm already did.  To earn the addition points, you need write a function called `summarize_results(patients)` to take the output of your  `process_people()` function to apply a new business rule and summarize the results.\n",
        "\n",
        "* Your function should take the dictionary created by `process_people()` as it's one input parameter: `patients`.\n",
        "* If the PRIEST probably is less than 10%, change the `hospital` and `address` to both have a value of `'Home'` indicating patients with a lower probability of an adverse outcome can just go home rather than be admitted to a hospital.\n",
        "* Summarize those results and count how many patients are now being sent to each location.  Your result should have the following format:\n",
        "```\n",
        "{\n",
        "    \"Home\": 123,\n",
        "    \"Hospital A\": 10,\n",
        "    \"Hospital B\": 20,\n",
        "    \"Hospital C\": 30\n",
        "}\n",
        "```\n",
        "\n",
        "As always, your function needs good docstrings; but does not require any doctests in this case."
      ]
    },
    {
      "cell_type": "code",
      "execution_count": 4,
      "metadata": {
        "id": "doVYNru5EGy8"
      },
      "outputs": [],
      "source": [
        "def summarize_results(patient_data):\n",
        "    '''\n",
        "    This function is used to obtain a summary of patient outcomes. It accepts a dictionary of patient data as input and returns a dictionary indicating the number of patients sent to various locations.\n",
        "    '''\n",
        "\n",
        "    # Initialize a dictionary to store patient counts for each hospital.\n",
        "    hospital_patient_count = {}\n",
        "\n",
        "    for patient_id, patient_info in patient_data.items():\n",
        "        # Check if the patient's priest score (index 10) is less than 0.1, and set the destination to 'Home'.\n",
        "        if patient_info[10] < 0.1:\n",
        "            patient_info[11] = 'Home'\n",
        "            patient_info[12] = 'Home'\n",
        "\n",
        "        # Get the hospital name for the patient.\n",
        "        hospital_name = patient_info[11]\n",
        "\n",
        "        # Update the patient count for the hospital in the dictionary.\n",
        "        if hospital_name in hospital_patient_count:\n",
        "            hospital_patient_count[hospital_name] += 1\n",
        "        else:\n",
        "            hospital_patient_count[hospital_name] = 1\n",
        "\n",
        "    return hospital_patient_count\n",
        "\n",
        "# The input data as a dictionary (returned_data).\n",
        "returned_data = {\n",
        "    # ... (your patient data here)\n",
        "}\n",
        "\n",
        "# Call the function to summarize patient outcomes.\n",
        "patient_count = summarize_results(returned_data)\n",
        "\n",
        "# Print the summary results.\n",
        "for hospital, count in patient_count.items():\n",
        "    print(f'Patients sent to {hospital}: {count}')\n"
      ]
    },
    {
      "cell_type": "code",
      "execution_count": null,
      "metadata": {
        "id": "P9N3PXtUEGy9"
      },
      "outputs": [],
      "source": []
    }
  ],
  "metadata": {
    "kernelspec": {
      "display_name": ".venv",
      "language": "python",
      "name": "python3"
    },
    "language_info": {
      "codemirror_mode": {
        "name": "ipython",
        "version": 3
      },
      "file_extension": ".py",
      "mimetype": "text/x-python",
      "name": "python",
      "nbconvert_exporter": "python",
      "pygments_lexer": "ipython3",
      "version": "3.9.16"
    },
    "colab": {
      "provenance": []
    }
  },
  "nbformat": 4,
  "nbformat_minor": 0
}